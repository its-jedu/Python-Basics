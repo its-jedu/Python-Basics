{
 "cells": [
  {
   "cell_type": "code",
   "execution_count": 18,
   "id": "885771bf",
   "metadata": {},
   "outputs": [],
   "source": [
    "import random"
   ]
  },
  {
   "cell_type": "code",
   "execution_count": 50,
   "id": "ee80ea06",
   "metadata": {},
   "outputs": [
    {
     "name": "stdout",
     "output_type": "stream",
     "text": [
      "[1, 2, 2, 3, 4, 4, 4, 8, 10, 10]\n",
      "[1, \u001b[1;32m2\u001b[0m, 2, 3, 4, 4, 4, 8, 10, 10]\n",
      "Found 2 at index 1\n"
     ]
    }
   ],
   "source": [
    "import random\n",
    "\n",
    "# generate a list of 1000 random numbers\n",
    "#lst = sorted([random.randint(0, 100) for _ in range(100)])\n",
    "\n",
    "# define a binary search function\n",
    "def binary_search(lst, target):\n",
    "    for i in range(0,10):\n",
    "        num = random.randint(1,10)\n",
    "        lst.append(num)\n",
    "        lst.sort()\n",
    "    print(lst)\n",
    "    low = 0\n",
    "    high = len(lst) - 1\n",
    "    \n",
    "    while low <= high:\n",
    "        mid = (low + high) // 2\n",
    "        if lst[mid] == target:\n",
    "            return mid\n",
    "        elif lst[mid] < target:\n",
    "            low = mid + 1\n",
    "        else:\n",
    "            high = mid - 1\n",
    "            \n",
    "    return None\n",
    "\n",
    "# search for the number 23 in the list using binary search\n",
    "lst=[]\n",
    "target = 2\n",
    "index = binary_search(lst, target)\n",
    "\n",
    "# highlight the index of 23 in the list\n",
    "if index != None:\n",
    "    highlighted_lst = [str(x) if i != index else \"\\033[1;32m{}\\033[0m\".format(x) for i, x in enumerate(lst)]\n",
    "    print('[' + ', '.join(highlighted_lst) + ']')\n",
    "    print(\"Found {} at index {}\".format(target, index))\n",
    "    \n",
    "else:\n",
    "    print(\"{} not found in the list\".format(target))\n"
   ]
  },
  {
   "cell_type": "code",
   "execution_count": null,
   "id": "9eccdaa6",
   "metadata": {},
   "outputs": [],
   "source": []
  },
  {
   "cell_type": "code",
   "execution_count": null,
   "id": "2af43544",
   "metadata": {},
   "outputs": [],
   "source": []
  },
  {
   "cell_type": "code",
   "execution_count": null,
   "id": "e6504d5a",
   "metadata": {},
   "outputs": [],
   "source": []
  }
 ],
 "metadata": {
  "kernelspec": {
   "display_name": "Python 3 (ipykernel)",
   "language": "python",
   "name": "python3"
  },
  "language_info": {
   "codemirror_mode": {
    "name": "ipython",
    "version": 3
   },
   "file_extension": ".py",
   "mimetype": "text/x-python",
   "name": "python",
   "nbconvert_exporter": "python",
   "pygments_lexer": "ipython3",
   "version": "3.9.13"
  }
 },
 "nbformat": 4,
 "nbformat_minor": 5
}

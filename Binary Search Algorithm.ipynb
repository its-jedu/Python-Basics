{
 "cells": [
  {
   "cell_type": "markdown",
   "id": "3b45aa4f",
   "metadata": {},
   "source": [
    "# Binary Search Algorithm"
   ]
  },
  {
   "cell_type": "code",
   "execution_count": 47,
   "id": "8307086b",
   "metadata": {},
   "outputs": [],
   "source": [
    "import random"
   ]
  },
  {
   "cell_type": "code",
   "execution_count": 51,
   "id": "634bb64f",
   "metadata": {},
   "outputs": [],
   "source": [
    "def BinarySearch(list,key):\n",
    "    for i in range(1,10):\n",
    "        num = random.randint(1,10)\n",
    "        list.append(num)\n",
    "        list.sort()\n",
    "    print(list)\n",
    "    low = 0\n",
    "    high = len(list)-1\n",
    "    while low <= high:\n",
    "        mid = (low + high) //2\n",
    "        mid_Value = list[mid]\n",
    "        \n",
    "        if mid_Value == key:\n",
    "            return mid\n",
    "        elif key < mid_Value:\n",
    "            high = mid - 1\n",
    "        else:\n",
    "            low = mid + 1\n",
    "    return None"
   ]
  },
  {
   "cell_type": "code",
   "execution_count": 54,
   "id": "0acff7e2",
   "metadata": {},
   "outputs": [],
   "source": [
    "list = []\n",
    "key = 2"
   ]
  },
  {
   "cell_type": "code",
   "execution_count": 57,
   "id": "ae03751e",
   "metadata": {},
   "outputs": [
    {
     "name": "stdout",
     "output_type": "stream",
     "text": [
      "[1, 1, 1, 2, 2, 2, 4, 4, 5, 5, 5, 6, 7, 8, 8, 8, 8, 8, 8, 8, 8, 9, 9, 9, 10, 10, 10]\n",
      "Found 2 at index 4\n",
      "[1, 1, 1, 2, \u001b[1;32m2\u001b[0m, 2, 4, 4, 5, 5, 5, 6, 7, 8, 8, 8, 8, 8, 8, 8, 8, 9, 9, 9, 10, 10, 10]\n"
     ]
    }
   ],
   "source": [
    "#highlight_regex_matches(key,list)\n",
    "index = BinarySearch(list,key)\n",
    "\n",
    "if index != None:\n",
    "    highlighted_lst = [str(x) if i != index else \"\\033[1;32m{}\\033[0m\".format(x) for i, x in enumerate(list)]\n",
    "    print(\"Found {} at index {}\".format(key, index))\n",
    "    print('[' + ', '.join(highlighted_lst) + ']')\n",
    "else:\n",
    "    print(\"{} not found in the list\".format(key))"
   ]
  },
  {
   "cell_type": "code",
   "execution_count": null,
   "id": "524701c3",
   "metadata": {},
   "outputs": [],
   "source": []
  }
 ],
 "metadata": {
  "kernelspec": {
   "display_name": "Python 3 (ipykernel)",
   "language": "python",
   "name": "python3"
  },
  "language_info": {
   "codemirror_mode": {
    "name": "ipython",
    "version": 3
   },
   "file_extension": ".py",
   "mimetype": "text/x-python",
   "name": "python",
   "nbconvert_exporter": "python",
   "pygments_lexer": "ipython3",
   "version": "3.9.13"
  }
 },
 "nbformat": 4,
 "nbformat_minor": 5
}
